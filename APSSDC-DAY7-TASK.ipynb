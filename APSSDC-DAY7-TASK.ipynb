{
 "cells": [
  {
   "cell_type": "markdown",
   "metadata": {},
   "source": [
    "##Python program to print 4 digit numbers present in any user given list:"
   ]
  },
  {
   "cell_type": "code",
   "execution_count": 10,
   "metadata": {},
   "outputs": [
    {
     "name": "stdout",
     "output_type": "stream",
     "text": [
      "Enter number of elements to be added into the list: 4\n",
      "564\n",
      "2123\n",
      "4045\n",
      "2877\n",
      "\n",
      "The four digit numbers are: \n",
      "\n",
      "2123\t4045\t2877\t"
     ]
    }
   ],
   "source": [
    "import re\n",
    "\n",
    "l = []\n",
    "n = int(input(\"Enter number of elements to be added into the list: \"))\n",
    "for i in range(n):\n",
    "    e = input()\n",
    "    l.append(e)\n",
    "print(\"\\nThe four digit numbers are: \\n\")\n",
    "for i in l:\n",
    "    if (re.search('^\\d{4}$', i)):\n",
    "        print(i, end='\\t')\n",
    "    else:\n",
    "        pass"
   ]
  },
  {
   "cell_type": "code",
   "execution_count": 14,
   "metadata": {},
   "outputs": [
    {
     "name": "stdout",
     "output_type": "stream",
     "text": [
      "Enter number of elements to be added into the list: 20\n",
      "56014\n",
      "5416\n",
      "2307\n",
      "6552\n",
      "80715\n",
      "58501\n",
      "6017\n",
      "6011\n",
      "6023\n",
      "80015\n",
      "5384145\n",
      "23346\n",
      "2388\n",
      "9514\n",
      "9023\n",
      "96781\n",
      "9415\n",
      "69714\n",
      "5842\n",
      "3571\n",
      "\n",
      "The four digit numbers are: \n",
      "\n",
      "5416\t2307\t6552\t6017\t6011\t6023\t2388\t9514\t9023\t9415\t5842\t3571\t"
     ]
    }
   ],
   "source": [
    "import re\n",
    "\n",
    "l = []\n",
    "n = int(input(\"Enter number of elements to be added into the list: \"))\n",
    "for i in range(n):\n",
    "    e = input()\n",
    "    l.append(e)\n",
    "print(\"\\nThe four digit numbers are: \\n\")\n",
    "for i in l:\n",
    "    if (re.search('^\\d{4}$', i)):\n",
    "        print(i, end='\\t')\n",
    "    else:\n",
    "        pass"
   ]
  },
  {
   "cell_type": "markdown",
   "metadata": {},
   "source": [
    "##Python program to validate phone number using patterns"
   ]
  },
  {
   "cell_type": "code",
   "execution_count": 16,
   "metadata": {},
   "outputs": [
    {
     "name": "stdout",
     "output_type": "stream",
     "text": [
      "How many numbers do you want to check: 6\n",
      "8688288702\n",
      "8688265144\n",
      "5951065501\n",
      "9618876234\n",
      "11137356501\n",
      "12155401055\n",
      "\n",
      "The valid phone numbers are:\n",
      " \n",
      "8688288702\t8688265144\t9618876234\t"
     ]
    }
   ],
   "source": [
    "l = []\n",
    "n = int(input(\"How many numbers do you want to check: \"))\n",
    "for i in range(n):\n",
    "    e = input()\n",
    "    l.append(e)\n",
    "print(\"\\nThe valid phone numbers are:\\n \")\n",
    "for i in l:\n",
    "    if (re.search('^[6789]\\d{9}$', i)):\n",
    "        print(i, end='\\t')\n",
    "    else:\n",
    "        pass"
   ]
  },
  {
   "cell_type": "code",
   "execution_count": 18,
   "metadata": {},
   "outputs": [
    {
     "name": "stdout",
     "output_type": "stream",
     "text": [
      "How many numbers do you want to check: 3\n",
      "8688265144\n",
      "5551003611\n",
      "6710051255\n",
      "\n",
      "The valid phone numbers are:\n",
      " \n",
      "8688265144\t6710051255\t"
     ]
    }
   ],
   "source": [
    "l = []\n",
    "n = int(input(\"How many numbers do you want to check: \"))\n",
    "for i in range(n):\n",
    "    e = input()\n",
    "    l.append(e)\n",
    "print(\"\\nThe valid phone numbers are:\\n \")\n",
    "for i in l:\n",
    "    if (re.search('^[6789]\\d{9}$', i)):\n",
    "        print(i, end='\\t')\n",
    "    else:\n",
    "        pass"
   ]
  },
  {
   "cell_type": "code",
   "execution_count": null,
   "metadata": {},
   "outputs": [],
   "source": []
  }
 ],
 "metadata": {
  "kernelspec": {
   "display_name": "Python 3",
   "language": "python",
   "name": "python3"
  },
  "language_info": {
   "codemirror_mode": {
    "name": "ipython",
    "version": 3
   },
   "file_extension": ".py",
   "mimetype": "text/x-python",
   "name": "python",
   "nbconvert_exporter": "python",
   "pygments_lexer": "ipython3",
   "version": "3.7.4"
  }
 },
 "nbformat": 4,
 "nbformat_minor": 2
}
