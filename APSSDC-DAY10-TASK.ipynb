{
 "cells": [
  {
   "cell_type": "markdown",
   "metadata": {},
   "source": [
    "##Day 10 Task:\n",
    "\n",
    "-> To generate a 3 digit OTP from 2 different Classes-Mail class and Phone class and return 6 digit OTP from both Base classes\n",
    "\n",
    "->(The same program executed three times to get three different random otp's)"
   ]
  },
  {
   "cell_type": "code",
   "execution_count": 12,
   "metadata": {},
   "outputs": [
    {
     "name": "stdout",
     "output_type": "stream",
     "text": [
      "OTP generated in Mail class\n",
      "OTP generated in Phone class\n",
      "OTP generated from both Mail and Phone classes\n",
      "930702\n"
     ]
    }
   ],
   "source": [
    "import random\n",
    "class OTP_in_Mail():\n",
    "    o1 = \"\"\n",
    "    def __init__(self):\n",
    "        print(\"OTP generated in Mail class\")\n",
    "    def otp_mail(self):\n",
    "        for i in range(3):\n",
    "            self.o1 = self.o1 + str(random.randint(0, 9))\n",
    "        return self.o1\n",
    "class OTP_in_Phone():\n",
    "    o2 = \"\"\n",
    "    def __init__(self):\n",
    "        print(\"OTP generated in Phone class\")\n",
    "    def otp_phone(self):\n",
    "        for i in range(3):\n",
    "            self.o2 = self.o2 + str(random.randint(0, 9))\n",
    "        return self.o2\n",
    "class Otp(Mail, Phone):\n",
    "    o = \"\"\n",
    "    def __init__(self):\n",
    "        OTP_in_Mail.__init__(self)\n",
    "        OTP_in_Phone.__init__(self)\n",
    "        print(\"OTP generated from both Mail and Phone classes\")\n",
    "    def otp(self):\n",
    "        self.o = OTP_in_Mail.otp_mail(self) + OTP_in_Phone.otp_phone(self)\n",
    "        return self.o\n",
    "a = Otp()\n",
    "print(a.otp())"
   ]
  },
  {
   "cell_type": "code",
   "execution_count": 8,
   "metadata": {},
   "outputs": [
    {
     "name": "stdout",
     "output_type": "stream",
     "text": [
      "OTP generated in Mail class\n",
      "OTP generated in Phone class\n",
      "OTP generated from both Mail and Phone classes\n",
      "050848\n"
     ]
    }
   ],
   "source": [
    "import random\n",
    "class OTP_in_Mail():\n",
    "    o1 = \"\"\n",
    "    def __init__(self):\n",
    "        print(\"OTP generated in Mail class\")\n",
    "    def otp_mail(self):\n",
    "        for i in range(3):\n",
    "            self.o1 = self.o1 + str(random.randint(0, 9))\n",
    "        return self.o1\n",
    "class OTP_in_Phone():\n",
    "    o2 = \"\"\n",
    "    def __init__(self):\n",
    "        print(\"OTP generated in Phone class\")\n",
    "    def otp_phone(self):\n",
    "        for i in range(3):\n",
    "            self.o2 = self.o2 + str(random.randint(0, 9))\n",
    "        return self.o2\n",
    "class Otp(Mail, Phone):\n",
    "    o = \"\"\n",
    "    def __init__(self):\n",
    "        OTP_in_Mail.__init__(self)\n",
    "        OTP_in_Phone.__init__(self)\n",
    "        print(\"OTP generated from both Mail and Phone classes\")\n",
    "    def otp(self):\n",
    "        self.o = OTP_in_Mail.otp_mail(self) + OTP_in_Phone.otp_phone(self)\n",
    "        return self.o\n",
    "obj = Otp()\n",
    "print(obj.otp())"
   ]
  },
  {
   "cell_type": "code",
   "execution_count": 11,
   "metadata": {},
   "outputs": [
    {
     "name": "stdout",
     "output_type": "stream",
     "text": [
      "OTP generated in Mail class\n",
      "OTP generated in Phone class\n",
      "OTP generated from both Mail and Phone classes\n",
      "829284\n"
     ]
    }
   ],
   "source": [
    "import random\n",
    "class OTP_in_Mail():\n",
    "    o1 = \"\"\n",
    "    def __init__(self):\n",
    "        print(\"OTP generated in Mail class\")\n",
    "    def otp_mail(self):\n",
    "        for i in range(3):\n",
    "            self.o1 = self.o1 + str(random.randint(0, 9))\n",
    "        return self.o1\n",
    "class OTP_in_Phone():\n",
    "    o2 = \"\"\n",
    "    def __init__(self):\n",
    "        print(\"OTP generated in Phone class\")\n",
    "    def otp_phone(self):\n",
    "        for i in range(3):\n",
    "            self.o2 = self.o2 + str(random.randint(0, 9))\n",
    "        return self.o2\n",
    "class Otp(Mail, Phone):\n",
    "    o = \"\"\n",
    "    def __init__(self):\n",
    "        OTP_in_Mail.__init__(self)\n",
    "        OTP_in_Phone.__init__(self)\n",
    "        print(\"OTP generated from both Mail and Phone classes\")\n",
    "    def otp(self):\n",
    "        self.o = OTP_in_Mail.otp_mail(self) + OTP_in_Phone.otp_phone(self)\n",
    "        return self.o\n",
    "a = Otp()\n",
    "print(a.otp())"
   ]
  },
  {
   "cell_type": "code",
   "execution_count": null,
   "metadata": {},
   "outputs": [],
   "source": []
  }
 ],
 "metadata": {
  "kernelspec": {
   "display_name": "Python 3",
   "language": "python",
   "name": "python3"
  },
  "language_info": {
   "codemirror_mode": {
    "name": "ipython",
    "version": 3
   },
   "file_extension": ".py",
   "mimetype": "text/x-python",
   "name": "python",
   "nbconvert_exporter": "python",
   "pygments_lexer": "ipython3",
   "version": "3.7.4"
  }
 },
 "nbformat": 4,
 "nbformat_minor": 2
}
