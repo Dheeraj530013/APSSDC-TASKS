{
 "cells": [
  {
   "cell_type": "markdown",
   "metadata": {},
   "source": [
    "## Day 6 tasks:\n",
    "\n",
    "1)Write a Python script to print a dictionary where the keys are numbers between 1 and 15 (both included) and the values are square of keys\n",
    "2)Write a Python program to map two lists into a dictionary\n",
    "3)Write a Python program to sort a list alphabetically in a dictionary\n",
    "    input: {'n1':[2,3,1],'n2':[5,1,2],'n3':[3,2,4]}\n",
    "    output : {'n1': [1, 2, 3], 'n2': [1, 2, 5], 'n3': [2, 3, 4]}\n"
   ]
  },
  {
   "cell_type": "markdown",
   "metadata": {},
   "source": [
    "##Python script to print a dictionary where the keys are numbers between 1 and 15 (both included) and the values are square of keys"
   ]
  },
  {
   "cell_type": "code",
   "execution_count": 9,
   "metadata": {},
   "outputs": [
    {
     "name": "stdout",
     "output_type": "stream",
     "text": [
      "Dictionary where the keys are numbers between 1 and 15 (both included) and the values are square of keys is:\n",
      "\n",
      "{1: 1, 2: 4, 3: 9, 4: 16, 5: 25, 6: 36, 7: 49, 8: 64, 9: 81, 10: 100, 11: 121, 12: 144, 13: 169, 14: 196, 15: 225}\n"
     ]
    }
   ],
   "source": [
    "dictionary = {}\n",
    "for i in range(1,16):\n",
    "    dictionary[i] = i*i\n",
    "print(\"Dictionary where the keys are numbers between 1 and 15 (both included) and the values are square of keys is:\\n\\n{d}\".format(d=dictionary))"
   ]
  },
  {
   "cell_type": "markdown",
   "metadata": {},
   "source": [
    "##Python program to map two dictionaries:\n",
    "\n",
    "Here, two lists are given. The first list has the words, \"Dolby\", \"Barco\", \"Theatre formats\", and their products are given in second list. For Theatre formats, some of the most famous theatre formats are given in the list."
   ]
  },
  {
   "cell_type": "code",
   "execution_count": 15,
   "metadata": {},
   "outputs": [
    {
     "name": "stdout",
     "output_type": "stream",
     "text": [
      "Resultant dictionary is : {'Dolby': {'Atmos', 5.1, 7.1}, 'Barco': {'Laser Phosphor projectors', 'RGB Laser Projectors', 'Lamp projectors'}, 'Theatre_formats': {'IMAX', 'Luxury cinema', 'Dolby cinema'}}\n"
     ]
    }
   ],
   "source": [
    "key_of_dict = ['Dolby','Barco','Theatre_formats']\n",
    "value_of_dict = [{5.1,7.1,'Atmos'},{'Lamp projectors','Laser Phosphor projectors','RGB Laser Projectors'},{'IMAX','Dolby cinema','Luxury cinema'}]\n",
    "resultant_dict = {key_of_dict[i]: value_of_dict[i] for i in range(len(key_of_dict))}\n",
    "print (\"Resultant dictionary is : \" +  str(resultant_dict))"
   ]
  },
  {
   "cell_type": "markdown",
   "metadata": {},
   "source": [
    "##Python program to sort a list alphabetically in a dictionary"
   ]
  },
  {
   "cell_type": "code",
   "execution_count": 13,
   "metadata": {},
   "outputs": [
    {
     "name": "stdout",
     "output_type": "stream",
     "text": [
      "{'n1': [1, 2, 3], 'n2': [1, 2, 5], 'n3': [2, 3, 4]}\n"
     ]
    }
   ],
   "source": [
    "dict = {'n1': [2, 3, 1], 'n2': [5, 1, 2], 'n3': [3, 2, 4]}\n",
    "sorted_dict = {k: sorted(v) for k, v in dict.items()}\n",
    "print(sorted_dict)"
   ]
  },
  {
   "cell_type": "code",
   "execution_count": null,
   "metadata": {},
   "outputs": [],
   "source": []
  }
 ],
 "metadata": {
  "kernelspec": {
   "display_name": "Python 3",
   "language": "python",
   "name": "python3"
  },
  "language_info": {
   "codemirror_mode": {
    "name": "ipython",
    "version": 3
   },
   "file_extension": ".py",
   "mimetype": "text/x-python",
   "name": "python",
   "nbconvert_exporter": "python",
   "pygments_lexer": "ipython3",
   "version": "3.7.4"
  }
 },
 "nbformat": 4,
 "nbformat_minor": 2
}
