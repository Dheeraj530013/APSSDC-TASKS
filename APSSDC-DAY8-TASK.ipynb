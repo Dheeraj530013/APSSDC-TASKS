{
 "cells": [
  {
   "cell_type": "markdown",
   "metadata": {},
   "source": [
    "##Day8 Tasks:\n",
    "\n",
    "->Create a function for finding the leap years in the given range\n",
    "\n",
    "->Create a function for getting armstrong numbers within the given range\n",
    "\n",
    "->Create a function for getting the prime numbers within the range\n",
    "\n",
    "->Create a function for finding the count of elements in a given string"
   ]
  },
  {
   "cell_type": "code",
   "execution_count": 4,
   "metadata": {},
   "outputs": [
    {
     "name": "stdout",
     "output_type": "stream",
     "text": [
      "Enter first year in range: 2004\n",
      "Enter last year in range: 2020\n",
      "\n",
      "The leap years between  2004 and 2020  (both inclusive) are:\n",
      "\n",
      "[2004, 2008, 2012, 2016, 2020] \n"
     ]
    }
   ],
   "source": [
    "#function to find how many leap years are there in a user given range\n",
    "def ly(y):\n",
    "    if (y%4 == 0 and y%100 != 0 or y%400 == 0):\n",
    "        return True\n",
    "    else:\n",
    "        return False\n",
    "a = int(input(\"Enter first year in range: \"))\n",
    "b = int(input(\"Enter last year in range: \"))\n",
    "l=list()\n",
    "for i in range(a,b+1):\n",
    "    if ly(i) == True:\n",
    "        l.append(i)\n",
    "print(\"\\nThe leap years between \", a, \"and\", b, \" (both inclusive) are:\\n\\n{f} \".format(f=l))"
   ]
  },
  {
   "cell_type": "code",
   "execution_count": 5,
   "metadata": {},
   "outputs": [
    {
     "name": "stdout",
     "output_type": "stream",
     "text": [
      "Enter first year in range: 1993\n",
      "Enter last year in range: 2019\n",
      "\n",
      "The leap years between  1993 and 2019  (both inclusive) are:\n",
      "\n",
      "[1996, 2000, 2004, 2008, 2012, 2016] \n"
     ]
    }
   ],
   "source": [
    "#function to find how many leap years are there in a user given range\n",
    "def ly(y):\n",
    "    if (y%4 == 0 and y%100 != 0 or y%400 == 0):\n",
    "        return True\n",
    "    else:\n",
    "        return False\n",
    "a = int(input(\"Enter first year in range: \"))\n",
    "b = int(input(\"Enter last year in range: \"))\n",
    "l=list()\n",
    "for i in range(a,b+1):\n",
    "    if ly(i) == True:\n",
    "        l.append(i)\n",
    "print(\"\\nThe leap years between \", a, \"and\", b, \" (both inclusive) are:\\n\\n{f} \".format(f=l))"
   ]
  },
  {
   "cell_type": "markdown",
   "metadata": {},
   "source": [
    "##Python function to get armstrong numbers within a given range"
   ]
  },
  {
   "cell_type": "code",
   "execution_count": 27,
   "metadata": {},
   "outputs": [
    {
     "name": "stdout",
     "output_type": "stream",
     "text": [
      "Enter the lower range: 100\n",
      "Enter the upper range: 500\n",
      "125\n",
      "153\n",
      "216\n",
      "370\n",
      "371\n",
      "407\n"
     ]
    }
   ],
   "source": [
    "lower=int(input(\"Enter the lower range: \"))  \n",
    "upper=int(input(\"Enter the upper range: \"))    \n",
    "for num in range(lower,upper+1):  \n",
    "   sum=0  \n",
    "   temp=num  \n",
    "   while temp > 0:  \n",
    "       digit = temp % 10  \n",
    "       sum += digit ** 3  \n",
    "       temp //= 10  \n",
    "       if num == sum:  \n",
    "            print(num)  "
   ]
  },
  {
   "cell_type": "code",
   "execution_count": 28,
   "metadata": {},
   "outputs": [
    {
     "name": "stdout",
     "output_type": "stream",
     "text": [
      "Enter the lower range: 2\n",
      "Enter the upper range: 300\n",
      "64\n",
      "125\n",
      "153\n",
      "216\n"
     ]
    }
   ],
   "source": [
    "lower=int(input(\"Enter the lower range: \"))  \n",
    "upper=int(input(\"Enter the upper range: \"))    \n",
    "for num in range(lower,upper+1):  \n",
    "   sum=0  \n",
    "   temp=num  \n",
    "   while temp > 0:  \n",
    "       digit = temp % 10  \n",
    "       sum += digit ** 3  \n",
    "       temp //= 10  \n",
    "       if num == sum:  \n",
    "            print(num)  "
   ]
  },
  {
   "cell_type": "markdown",
   "metadata": {},
   "source": [
    "##Python function for getting prime numbers within a given range"
   ]
  },
  {
   "cell_type": "code",
   "execution_count": 33,
   "metadata": {},
   "outputs": [
    {
     "name": "stdout",
     "output_type": "stream",
     "text": [
      "Enter the first number in range: 12\n",
      "Enter the second number in range: 39\n",
      "\n",
      "The prime numbers in the given range are:\n",
      "\n",
      "13\t17\t19\t23\t29\t31\t37\t"
     ]
    }
   ],
   "source": [
    "def pnum():    \n",
    "    fn = int(input(\"Enter the first number in range: \"))  \n",
    "    sn = int(input(\"Enter the second number in range: \"))  \n",
    "    print(\"\\nThe prime numbers in the given range are:\\n\")\n",
    "    for i in range(fn, sn+1):\n",
    "        for j in range(2, i):\n",
    "            if i%j == 0:\n",
    "                break\n",
    "        else:\n",
    "            print(i,end='\\t')\n",
    "pnum()"
   ]
  },
  {
   "cell_type": "code",
   "execution_count": 35,
   "metadata": {},
   "outputs": [
    {
     "name": "stdout",
     "output_type": "stream",
     "text": [
      "Enter the first number in range: 2\n",
      "Enter the second number in range: 66\n",
      "\n",
      "The prime numbers in the given range are:\n",
      "\n",
      "2\t3\t5\t7\t11\t13\t17\t19\t23\t29\t31\t37\t41\t43\t47\t53\t59\t61\t"
     ]
    }
   ],
   "source": [
    "def pnum():    \n",
    "    fn = int(input(\"Enter the first number in range: \"))  \n",
    "    sn = int(input(\"Enter the second number in range: \"))  \n",
    "    print(\"\\nThe prime numbers in the given range are:\\n\")\n",
    "    for i in range(fn, sn+1):\n",
    "        for j in range(2, i):\n",
    "            if i%j == 0:\n",
    "                break\n",
    "        else:\n",
    "            print(i,end='\\t')\n",
    "pnum()"
   ]
  },
  {
   "cell_type": "markdown",
   "metadata": {},
   "source": [
    "##Python function for finding the count of elements in a string"
   ]
  },
  {
   "cell_type": "code",
   "execution_count": 19,
   "metadata": {},
   "outputs": [
    {
     "name": "stdout",
     "output_type": "stream",
     "text": [
      "Enter any string Covishield\n",
      "The given string has 10 elements.\n"
     ]
    }
   ],
   "source": [
    "def count(str):\n",
    "    strnum = 0\n",
    "    for i in str:\n",
    "        strnum = strnum + 1\n",
    "    return strnum \n",
    "str = input(\"Enter any string \")\n",
    "print(\"The given string has {f} elements.\".format(f=count(str)))"
   ]
  },
  {
   "cell_type": "code",
   "execution_count": 36,
   "metadata": {},
   "outputs": [
    {
     "name": "stdout",
     "output_type": "stream",
     "text": [
      "Enter any string Visakhapatnam\n",
      "The given string has 13 elements.\n"
     ]
    }
   ],
   "source": [
    "def count(str):\n",
    "    strnum = 0\n",
    "    for i in str:\n",
    "        strnum = strnum + 1\n",
    "    return strnum \n",
    "str = input(\"Enter any string \")\n",
    "print(\"The given string has {f} elements.\".format(f=count(str)))"
   ]
  },
  {
   "cell_type": "code",
   "execution_count": null,
   "metadata": {},
   "outputs": [],
   "source": []
  }
 ],
 "metadata": {
  "kernelspec": {
   "display_name": "Python 3",
   "language": "python",
   "name": "python3"
  },
  "language_info": {
   "codemirror_mode": {
    "name": "ipython",
    "version": 3
   },
   "file_extension": ".py",
   "mimetype": "text/x-python",
   "name": "python",
   "nbconvert_exporter": "python",
   "pygments_lexer": "ipython3",
   "version": "3.7.4"
  }
 },
 "nbformat": 4,
 "nbformat_minor": 2
}
