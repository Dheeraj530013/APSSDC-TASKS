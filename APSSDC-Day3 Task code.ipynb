{
 "cells": [
  {
   "cell_type": "markdown",
   "metadata": {},
   "source": [
    "\n",
    "##Python program to find out what department a student belongs to based on 9th and 10th digits of the roll number.\n",
    "\n",
    "The format of the roll number is: 'APXXXXXXDDRRR', where the digits 'DD' will be signifying the department, and 'RRR' is the student number in that department. The starting words, 'AP' can be written in either uppercase or lower case(both letters should be written in either uppercase or lowercase and cannot write one letter in uppercase and other in lowercase or vice-versa).\n",
    "\n",
    "The departments in the AP campus are:\n",
    "10--CSE Department\n",
    "11--IT Department\n",
    "20--Biotechnology Department\n",
    "22--Pharmacy Department\n",
    "21--ECE Department\n",
    "\n",
    "Different outputs for different roll numbers given below.\n",
    "\n"
   ]
  },
  {
   "cell_type": "code",
   "execution_count": 25,
   "metadata": {},
   "outputs": [
    {
     "name": "stdout",
     "output_type": "stream",
     "text": [
      "\t\t\t\tEnter your full 13 digit roll number to know your department:\n",
      "\n",
      "\n",
      "\t\t\t\t\tEnter your roll number:ap19110010459\n",
      "\n",
      "\n",
      "\t\t\t\t\t\tCSE Department\n"
     ]
    }
   ],
   "source": [
    "string = input('\\t\\t\\t\\tEnter your full 13 digit roll number to know your department:\\n\\n\\n\\t\\t\\t\\t\\tEnter your roll number:')\n",
    "if string[-13:].startswith('AP') or string[-13:].startswith('ap'):\n",
    "    if len(string)!=13:\n",
    "        print(\"\\n\\n\\t\\t\\t\\t\\t\\tINVALID REGISTER NUMBER\")\n",
    "    elif string[-5:].startswith('10'):\n",
    "        print(\"\\n\\n\\t\\t\\t\\t\\t\\tCSE Department\")\n",
    "    elif string[-5:].startswith('11'):\n",
    "        print(\"\\n\\n\\t\\t\\t\\t\\t\\tIT Department\")\n",
    "    elif string[-5:].startswith('20'):\n",
    "        print(\"\\n\\n\\t\\t\\t\\t\\t\\tBiotechnology Department\")\n",
    "    elif string[-5:].startswith('22'):\n",
    "        print(\"\\n\\n\\t\\t\\t\\t\\t\\tPharmacy department\")\n",
    "    elif string[-5:].startswith('21'):\n",
    "        print(\"\\n\\n\\t\\t\\t\\t\\t\\tECE Department\")\n",
    "    else:\n",
    "        print(\"\\n\\n\\t\\t\\t\\n\\t\\t\\t\\t\\t\\tINVALID REGISTER NUMBER\")\n",
    "else:\n",
    "    print(\"\\n\\n\\t\\t\\t\\t\\t\\tINVALID REGISTER NUMBER\")\n"
   ]
  },
  {
   "cell_type": "code",
   "execution_count": 26,
   "metadata": {},
   "outputs": [
    {
     "name": "stdout",
     "output_type": "stream",
     "text": [
      "\t\t\t\tEnter your full 13 digit roll number to know your department:\n",
      "\n",
      "\n",
      "\t\t\t\t\tEnter your roll number:AP19110011459\n",
      "\n",
      "\n",
      "\t\t\t\t\t\tIT Department\n"
     ]
    }
   ],
   "source": [
    "string = input('\\t\\t\\t\\tEnter your full 13 digit roll number to know your department:\\n\\n\\n\\t\\t\\t\\t\\tEnter your roll number:')\n",
    "if string[-13:].startswith('AP') or string[-13:].startswith('ap'):\n",
    "    if len(string)!=13:\n",
    "        print(\"\\n\\n\\t\\t\\t\\t\\t\\tINVALID REGISTER NUMBER\")\n",
    "    elif string[-5:].startswith('10'):\n",
    "        print(\"\\n\\n\\t\\t\\t\\t\\t\\tCSE Department\")\n",
    "    elif string[-5:].startswith('11'):\n",
    "        print(\"\\n\\n\\t\\t\\t\\t\\t\\tIT Department\")\n",
    "    elif string[-5:].startswith('20'):\n",
    "        print(\"\\n\\n\\t\\t\\t\\t\\t\\tBiotechnology Department\")\n",
    "    elif string[-5:].startswith('22'):\n",
    "        print(\"\\n\\n\\t\\t\\t\\t\\t\\tPharmacy department\")\n",
    "    elif string[-5:].startswith('21'):\n",
    "        print(\"\\n\\n\\t\\t\\t\\t\\t\\tECE Department\")\n",
    "    else:\n",
    "        print(\"\\n\\n\\t\\t\\t\\n\\t\\t\\t\\t\\t\\tINVALID REGISTER NUMBER\")\n",
    "else:\n",
    "    print(\"\\n\\n\\t\\t\\t\\t\\t\\tINVALID REGISTER NUMBER\")\n"
   ]
  },
  {
   "cell_type": "code",
   "execution_count": 27,
   "metadata": {},
   "outputs": [
    {
     "name": "stdout",
     "output_type": "stream",
     "text": [
      "\t\t\t\tEnter your full 13 digit roll number to know your department:\n",
      "\n",
      "\n",
      "\t\t\t\t\tEnter your roll number:AP19110022459\n",
      "\n",
      "\n",
      "\t\t\t\t\t\tPharmacy department\n"
     ]
    }
   ],
   "source": [
    "string = input('\\t\\t\\t\\tEnter your full 13 digit roll number to know your department:\\n\\n\\n\\t\\t\\t\\t\\tEnter your roll number:')\n",
    "if string[-13:].startswith('AP') or string[-13:].startswith('ap'):\n",
    "    if len(string)!=13:\n",
    "        print(\"\\n\\n\\t\\t\\t\\t\\t\\tINVALID REGISTER NUMBER\")\n",
    "    elif string[-5:].startswith('10'):\n",
    "        print(\"\\n\\n\\t\\t\\t\\t\\t\\tCSE Department\")\n",
    "    elif string[-5:].startswith('11'):\n",
    "        print(\"\\n\\n\\t\\t\\t\\t\\t\\tIT Department\")\n",
    "    elif string[-5:].startswith('20'):\n",
    "        print(\"\\n\\n\\t\\t\\t\\t\\t\\tBiotechnology Department\")\n",
    "    elif string[-5:].startswith('22'):\n",
    "        print(\"\\n\\n\\t\\t\\t\\t\\t\\tPharmacy department\")\n",
    "    elif string[-5:].startswith('21'):\n",
    "        print(\"\\n\\n\\t\\t\\t\\t\\t\\tECE Department\")\n",
    "    else:\n",
    "        print(\"\\n\\n\\t\\t\\t\\n\\t\\t\\t\\t\\t\\tINVALID REGISTER NUMBER\")\n",
    "else:\n",
    "    print(\"\\n\\n\\t\\t\\t\\t\\t\\tINVALID REGISTER NUMBER\")\n"
   ]
  },
  {
   "cell_type": "code",
   "execution_count": 29,
   "metadata": {},
   "outputs": [
    {
     "name": "stdout",
     "output_type": "stream",
     "text": [
      "\t\t\t\tEnter your full 13 digit roll number to know your department:\n",
      "\n",
      "\n",
      "\t\t\t\t\tEnter your roll number:ap19110021459\n",
      "\n",
      "\n",
      "\t\t\t\t\t\tECE Department\n"
     ]
    }
   ],
   "source": [
    "string = input('\\t\\t\\t\\tEnter your full 13 digit roll number to know your department:\\n\\n\\n\\t\\t\\t\\t\\tEnter your roll number:')\n",
    "if string[-13:].startswith('AP') or string[-13:].startswith('ap'):\n",
    "    if len(string)!=13:\n",
    "        print(\"\\n\\n\\t\\t\\t\\t\\t\\tINVALID REGISTER NUMBER\")\n",
    "    elif string[-5:].startswith('10'):\n",
    "        print(\"\\n\\n\\t\\t\\t\\t\\t\\tCSE Department\")\n",
    "    elif string[-5:].startswith('11'):\n",
    "        print(\"\\n\\n\\t\\t\\t\\t\\t\\tIT Department\")\n",
    "    elif string[-5:].startswith('20'):\n",
    "        print(\"\\n\\n\\t\\t\\t\\t\\t\\tBiotechnology Department\")\n",
    "    elif string[-5:].startswith('22'):\n",
    "        print(\"\\n\\n\\t\\t\\t\\t\\t\\tPharmacy department\")\n",
    "    elif string[-5:].startswith('21'):\n",
    "        print(\"\\n\\n\\t\\t\\t\\t\\t\\tECE Department\")\n",
    "    else:\n",
    "        print(\"\\n\\n\\t\\t\\t\\n\\t\\t\\t\\t\\t\\tINVALID REGISTER NUMBER\")\n",
    "else:\n",
    "    print(\"\\n\\n\\t\\t\\t\\t\\t\\tINVALID REGISTER NUMBER\")\n"
   ]
  },
  {
   "cell_type": "code",
   "execution_count": 30,
   "metadata": {},
   "outputs": [
    {
     "name": "stdout",
     "output_type": "stream",
     "text": [
      "\t\t\t\tEnter your full 13 digit roll number to know your department:\n",
      "\n",
      "\n",
      "\t\t\t\t\tEnter your roll number:KTR1911001046\n",
      "\n",
      "\n",
      "\t\t\t\t\t\tINVALID REGISTER NUMBER\n"
     ]
    }
   ],
   "source": [
    "string = input('\\t\\t\\t\\tEnter your full 13 digit roll number to know your department:\\n\\n\\n\\t\\t\\t\\t\\tEnter your roll number:')\n",
    "if string[-13:].startswith('AP') or string[-13:].startswith('ap'):\n",
    "    if len(string)!=13:\n",
    "        print(\"\\n\\n\\t\\t\\t\\t\\t\\tINVALID REGISTER NUMBER\")\n",
    "    elif string[-5:].startswith('10'):\n",
    "        print(\"\\n\\n\\t\\t\\t\\t\\t\\tCSE Department\")\n",
    "    elif string[-5:].startswith('11'):\n",
    "        print(\"\\n\\n\\t\\t\\t\\t\\t\\tIT Department\")\n",
    "    elif string[-5:].startswith('20'):\n",
    "        print(\"\\n\\n\\t\\t\\t\\t\\t\\tBiotechnology Department\")\n",
    "    elif string[-5:].startswith('22'):\n",
    "        print(\"\\n\\n\\t\\t\\t\\t\\t\\tPharmacy department\")\n",
    "    elif string[-5:].startswith('21'):\n",
    "        print(\"\\n\\n\\t\\t\\t\\t\\t\\tECE Department\")\n",
    "    else:\n",
    "        print(\"\\n\\n\\t\\t\\t\\n\\t\\t\\t\\t\\t\\tINVALID REGISTER NUMBER\")\n",
    "else:\n",
    "    print(\"\\n\\n\\t\\t\\t\\t\\t\\tINVALID REGISTER NUMBER\")\n"
   ]
  },
  {
   "cell_type": "markdown",
   "metadata": {},
   "source": [
    "Since the register number started with KTR, it is invalid, as it belongs to another KTR campus, and not AP campus"
   ]
  },
  {
   "cell_type": "code",
   "execution_count": 32,
   "metadata": {},
   "outputs": [
    {
     "name": "stdout",
     "output_type": "stream",
     "text": [
      "\t\t\t\tEnter your full 13 digit roll number to know your department:\n",
      "\n",
      "\n",
      "\t\t\t\t\tEnter your roll number:ap1911010459\n",
      "\n",
      "\n",
      "\t\t\t\t\t\tINVALID REGISTER NUMBER\n"
     ]
    }
   ],
   "source": [
    "string = input('\\t\\t\\t\\tEnter your full 13 digit roll number to know your department:\\n\\n\\n\\t\\t\\t\\t\\tEnter your roll number:')\n",
    "if string[-13:].startswith('AP') or string[-13:].startswith('ap'):\n",
    "    if len(string)!=13:\n",
    "        print(\"\\n\\n\\t\\t\\t\\t\\t\\tINVALID REGISTER NUMBER\")\n",
    "    elif string[-5:].startswith('10'):\n",
    "        print(\"\\n\\n\\t\\t\\t\\t\\t\\tCSE Department\")\n",
    "    elif string[-5:].startswith('11'):\n",
    "        print(\"\\n\\n\\t\\t\\t\\t\\t\\tIT Department\")\n",
    "    elif string[-5:].startswith('20'):\n",
    "        print(\"\\n\\n\\t\\t\\t\\t\\t\\tBiotechnology Department\")\n",
    "    elif string[-5:].startswith('22'):\n",
    "        print(\"\\n\\n\\t\\t\\t\\t\\t\\tPharmacy department\")\n",
    "    elif string[-5:].startswith('21'):\n",
    "        print(\"\\n\\n\\t\\t\\t\\t\\t\\tECE Department\")\n",
    "    else:\n",
    "        print(\"\\n\\n\\t\\t\\t\\n\\t\\t\\t\\t\\t\\tINVALID REGISTER NUMBER\")\n",
    "else:\n",
    "    print(\"\\n\\n\\t\\t\\t\\t\\t\\tINVALID REGISTER NUMBER\")\n"
   ]
  },
  {
   "cell_type": "markdown",
   "metadata": {},
   "source": [
    "Since the register number does not have complete 13 digits, it is considered invalid, as the official register number will have 13 digits."
   ]
  },
  {
   "cell_type": "code",
   "execution_count": 34,
   "metadata": {},
   "outputs": [
    {
     "name": "stdout",
     "output_type": "stream",
     "text": [
      "\t\t\t\tEnter your full 13 digit roll number to know your department:\n",
      "\n",
      "\n",
      "\t\t\t\t\tEnter your roll number:AP19110033459\n",
      "\n",
      "\n",
      "\t\t\t\n",
      "\t\t\t\t\t\tINVALID REGISTER NUMBER\n"
     ]
    }
   ],
   "source": [
    "string = input('\\t\\t\\t\\tEnter your full 13 digit roll number to know your department:\\n\\n\\n\\t\\t\\t\\t\\tEnter your roll number:')\n",
    "if string[-13:].startswith('AP') or string[-13:].startswith('ap'):\n",
    "    if len(string)!=13:\n",
    "        print(\"\\n\\n\\t\\t\\t\\t\\t\\tINVALID REGISTER NUMBER\")\n",
    "    elif string[-5:].startswith('10'):\n",
    "        print(\"\\n\\n\\t\\t\\t\\t\\t\\tCSE Department\")\n",
    "    elif string[-5:].startswith('11'):\n",
    "        print(\"\\n\\n\\t\\t\\t\\t\\t\\tIT Department\")\n",
    "    elif string[-5:].startswith('20'):\n",
    "        print(\"\\n\\n\\t\\t\\t\\t\\t\\tBiotechnology Department\")\n",
    "    elif string[-5:].startswith('22'):\n",
    "        print(\"\\n\\n\\t\\t\\t\\t\\t\\tPharmacy department\")\n",
    "    elif string[-5:].startswith('21'):\n",
    "        print(\"\\n\\n\\t\\t\\t\\t\\t\\tECE Department\")\n",
    "    else:\n",
    "        print(\"\\n\\n\\t\\t\\t\\n\\t\\t\\t\\t\\t\\tINVALID REGISTER NUMBER\")\n",
    "else:\n",
    "    print(\"\\n\\n\\t\\t\\t\\t\\t\\tINVALID REGISTER NUMBER\")\n"
   ]
  },
  {
   "cell_type": "markdown",
   "metadata": {},
   "source": [
    "As the last 4th and 5th digits do not contain any number that signifies any department, it is considered invalid "
   ]
  },
  {
   "cell_type": "markdown",
   "metadata": {},
   "source": [
    "##Python program to print number of leap years in a user given range."
   ]
  },
  {
   "cell_type": "code",
   "execution_count": 42,
   "metadata": {},
   "outputs": [
    {
     "name": "stdout",
     "output_type": "stream",
     "text": [
      "Enter range to calculate how many leap years are there within that range:\n",
      "\n",
      "Enter first year in range: 1992\n",
      "Enter last year in range: 2014\n",
      "\n",
      "The leap years between 1992 and 2014 are:\n",
      "\n",
      "\n",
      "1992\t1996\t2000\t2004\t2008\t2012\t\n",
      "\n",
      "There are a total of 6 leap years between 1992 and 2014.\n"
     ]
    }
   ],
   "source": [
    "#leap year calculator in a given range\n",
    "s = int(input(\"Enter range to calculate how many leap years are there within that range:\\n\\nEnter first year in range: \"))\n",
    "d = int(input(\"Enter last year in range: \"))\n",
    "n=0\n",
    "print(\"\\nThe leap years between {s1} and {s2} are:\\n\\n\".format(s1=s,s2=d))\n",
    "for year in range(s,d):\n",
    "    if(year%4==0 and year%100!=0) or (year%400==0):\n",
    "        print(year, end='\\t')\n",
    "        n=n+1\n",
    "print(\"\\n\\nThere are a total of {number} leap years between {f} and {l}.\".format(number=n,f=s,l=d))"
   ]
  },
  {
   "cell_type": "code",
   "execution_count": 41,
   "metadata": {},
   "outputs": [
    {
     "name": "stdout",
     "output_type": "stream",
     "text": [
      "Enter range to calculate how many leap years are there within that range:\n",
      "\n",
      "Enter first year in range: 1662\n",
      "Enter last year in range: 2021\n",
      "\n",
      "The leap years between 1662 and 2021 are:\n",
      "\n",
      "\n",
      "1664\t1668\t1672\t1676\t1680\t1684\t1688\t1692\t1696\t1704\t1708\t1712\t1716\t1720\t1724\t1728\t1732\t1736\t1740\t1744\t1748\t1752\t1756\t1760\t1764\t1768\t1772\t1776\t1780\t1784\t1788\t1792\t1796\t1804\t1808\t1812\t1816\t1820\t1824\t1828\t1832\t1836\t1840\t1844\t1848\t1852\t1856\t1860\t1864\t1868\t1872\t1876\t1880\t1884\t1888\t1892\t1896\t1904\t1908\t1912\t1916\t1920\t1924\t1928\t1932\t1936\t1940\t1944\t1948\t1952\t1956\t1960\t1964\t1968\t1972\t1976\t1980\t1984\t1988\t1992\t1996\t2000\t2004\t2008\t2012\t2016\t2020\t\n",
      "\n",
      "There are a total of 87 leap years between 1662 and 2021.\n"
     ]
    }
   ],
   "source": [
    "#leap year calculator in a given range\n",
    "s = int(input(\"Enter range to calculate how many leap years are there within that range:\\n\\nEnter first year in range: \"))\n",
    "d = int(input(\"Enter last year in range: \"))\n",
    "n=0\n",
    "print(\"\\nThe leap years between {s1} and {s2} are:\\n\\n\".format(s1=s,s2=d))\n",
    "for year in range(s,d):\n",
    "    if(year%4==0 and year%100!=0) or (year%400==0):\n",
    "        print(year, end='\\t')\n",
    "        n=n+1\n",
    "print(\"\\n\\nThere are a total of {number} leap years between {f} and {l}.\".format(number=n,f=s,l=d))"
   ]
  },
  {
   "cell_type": "code",
   "execution_count": null,
   "metadata": {},
   "outputs": [],
   "source": []
  }
 ],
 "metadata": {
  "kernelspec": {
   "display_name": "Python 3",
   "language": "python",
   "name": "python3"
  },
  "language_info": {
   "codemirror_mode": {
    "name": "ipython",
    "version": 3
   },
   "file_extension": ".py",
   "mimetype": "text/x-python",
   "name": "python",
   "nbconvert_exporter": "python",
   "pygments_lexer": "ipython3",
   "version": "3.7.4"
  }
 },
 "nbformat": 4,
 "nbformat_minor": 2
}
