{
 "cells": [
  {
   "cell_type": "markdown",
   "metadata": {},
   "source": [
    "##Python program to check if two lists have any common element"
   ]
  },
  {
   "cell_type": "code",
   "execution_count": 12,
   "metadata": {},
   "outputs": [
    {
     "name": "stdout",
     "output_type": "stream",
     "text": [
      "\t\t\tEnter any two list elements to check if they have any element in common\n",
      "\n",
      "Enter number of elements List 1 should have: 3\n",
      "Enter number of elements List 2 should have: 3\n",
      "Enter elements of list 1: \n",
      "21\n",
      "37\n",
      "45\n",
      "Enter elements of list 2: \n",
      "37\n",
      "61\n",
      "81\n",
      "\n",
      "\n",
      "\n",
      "\t\t\t\t\tRESULT:  True\n"
     ]
    }
   ],
   "source": [
    "def common(list1, list2):\n",
    "    flag = False\n",
    "    for i in list1:\n",
    "        if (i in list2):\n",
    "            flag = True\n",
    "        else:\n",
    "            pass\n",
    "    return flag\n",
    "\n",
    "\n",
    "list1 = []\n",
    "list2 = []\n",
    "\n",
    "n1 = int(input(\"\\t\\t\\tEnter any two list elements to check if they have any element in common\\n\\nEnter number of elements List 1 should have: \"))\n",
    "n2 = int(input(\"Enter number of elements List 2 should have: \"))\n",
    "print(\"Enter elements of list 1: \")\n",
    "for i in range(n1):\n",
    "    l1elements = int(input())\n",
    "    list1.append(l1elements)\n",
    "print(\"Enter elements of list 2: \")\n",
    "for j in range(n2):\n",
    "    l2elements = int(input())\n",
    "    list2.append(l2elements)\n",
    "\n",
    "check = common(list1, list2)\n",
    "print(\"\\n\\n\\n\\t\\t\\t\\t\\tRESULT: \",check)"
   ]
  },
  {
   "cell_type": "code",
   "execution_count": 13,
   "metadata": {},
   "outputs": [
    {
     "name": "stdout",
     "output_type": "stream",
     "text": [
      "\t\t\tEnter any two list elements to check if they have any element in common\n",
      "\n",
      "Enter number of elements List 1 should have: 4\n",
      "Enter number of elements List 2 should have: 3\n",
      "Enter elements of list 1: \n",
      "15\n",
      "51\n",
      "47\n",
      "83\n",
      "Enter elements of list 2: \n",
      "63\n",
      "35\n",
      "101\n",
      "\n",
      "\n",
      "\n",
      "\t\t\t\t\tRESULT:  False\n"
     ]
    }
   ],
   "source": [
    "def common(list1, list2):\n",
    "    flag = False\n",
    "    for i in list1:\n",
    "        if (i in list2):\n",
    "            flag = True\n",
    "        else:\n",
    "            pass\n",
    "    return flag\n",
    "\n",
    "\n",
    "list1 = []\n",
    "list2 = []\n",
    "\n",
    "n1 = int(input(\"\\t\\t\\tEnter any two list elements to check if they have any element in common\\n\\nEnter number of elements List 1 should have: \"))\n",
    "n2 = int(input(\"Enter number of elements List 2 should have: \"))\n",
    "print(\"Enter elements of list 1: \")\n",
    "for i in range(n1):\n",
    "    l1elements = int(input())\n",
    "    list1.append(l1elements)\n",
    "print(\"Enter elements of list 2: \")\n",
    "for j in range(n2):\n",
    "    l2elements = int(input())\n",
    "    list2.append(l2elements)\n",
    "\n",
    "check = common(list1, list2)\n",
    "print(\"\\n\\n\\n\\t\\t\\t\\t\\tRESULT: \",check)"
   ]
  },
  {
   "cell_type": "code",
   "execution_count": 9,
   "metadata": {},
   "outputs": [
    {
     "name": "stdout",
     "output_type": "stream",
     "text": [
      "\t\t\tEnter any two list elements to check if they have any element in common\n",
      "\n",
      "\n",
      "Enter number of elements List 1 should have: 5\n",
      "Enter number of elements List 2 should have: 3\n",
      "Enter elements of list 1: \n",
      "2\n",
      "5\n",
      "6\n",
      "3\n",
      "4\n",
      "Enter elements of list 2: \n",
      "1\n",
      "8\n",
      "7\n",
      "\n",
      "\n",
      "\n",
      "\t\t\t\t\tRESULT:  False\n"
     ]
    }
   ],
   "source": [
    "print(\"\\t\\t\\tEnter any two list elements to check if they have any element in common\\n\\n\")\n",
    "def common(list1, list2):\n",
    "    flag = False\n",
    "    for i in list1:\n",
    "        if (i in list2):\n",
    "            flag = True\n",
    "        else:\n",
    "            pass\n",
    "    return flag\n",
    "\n",
    "list1 = []\n",
    "list2 = []\n",
    "n1 = int(input(\"Enter number of elements List 1 should have: \"))\n",
    "n2 = int(input(\"Enter number of elements List 2 should have: \"))\n",
    "print(\"Enter elements of list 1: \")\n",
    "for i in range(n1):\n",
    "    l1elements = int(input())\n",
    "    list1.append(l1elements)\n",
    "print(\"Enter elements of list 2: \")\n",
    "for j in range(n2):\n",
    "    l2elements = int(input())\n",
    "    list2.append(l2elements)\n",
    "\n",
    "check = common(list1, list2)\n",
    "print(\"\\n\\n\\n\\t\\t\\t\\t\\tRESULT: \",check)"
   ]
  },
  {
   "cell_type": "code",
   "execution_count": 14,
   "metadata": {},
   "outputs": [
    {
     "name": "stdout",
     "output_type": "stream",
     "text": [
      "\t\t\tEnter any two list elements to check if they have any element in common\n",
      "\n",
      "Enter number of elements List 1 should have: 5\n",
      "Enter number of elements List 2 should have: 3\n",
      "Enter elements of list 1: \n",
      "5\n",
      "4\n",
      "11\n",
      "3\n",
      "7\n",
      "Enter elements of list 2: \n",
      "3\n",
      "8\n",
      "7\n",
      "\n",
      "\n",
      "\n",
      "\t\t\t\t\tRESULT:  True\n"
     ]
    }
   ],
   "source": [
    "def common(list1, list2):\n",
    "    flag = False\n",
    "    for i in list1:\n",
    "        if (i in list2):\n",
    "            flag = True\n",
    "        else:\n",
    "            pass\n",
    "    return flag\n",
    "\n",
    "\n",
    "list1 = []\n",
    "list2 = []\n",
    "\n",
    "n1 = int(input(\"\\t\\t\\tEnter any two list elements to check if they have any element in common\\n\\nEnter number of elements List 1 should have: \"))\n",
    "n2 = int(input(\"Enter number of elements List 2 should have: \"))\n",
    "print(\"Enter elements of list 1: \")\n",
    "for i in range(n1):\n",
    "    l1elements = int(input())\n",
    "    list1.append(l1elements)\n",
    "print(\"Enter elements of list 2: \")\n",
    "for j in range(n2):\n",
    "    l2elements = int(input())\n",
    "    list2.append(l2elements)\n",
    "\n",
    "check = common(list1, list2)\n",
    "print(\"\\n\\n\\n\\t\\t\\t\\t\\tRESULT: \",check)"
   ]
  },
  {
   "cell_type": "code",
   "execution_count": null,
   "metadata": {},
   "outputs": [],
   "source": []
  }
 ],
 "metadata": {
  "kernelspec": {
   "display_name": "Python 3",
   "language": "python",
   "name": "python3"
  },
  "language_info": {
   "codemirror_mode": {
    "name": "ipython",
    "version": 3
   },
   "file_extension": ".py",
   "mimetype": "text/x-python",
   "name": "python",
   "nbconvert_exporter": "python",
   "pygments_lexer": "ipython3",
   "version": "3.7.4"
  }
 },
 "nbformat": 4,
 "nbformat_minor": 2
}
