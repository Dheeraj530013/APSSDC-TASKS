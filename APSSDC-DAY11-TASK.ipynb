{
 "cells": [
  {
   "cell_type": "markdown",
   "metadata": {},
   "source": [
    "##Day11 tasks:\n",
    "\n",
    "-> Python program to get the last five lines from the file\n",
    "\n",
    "-> Create a function for appending data into a file\n",
    "\n",
    "-> Write a python program for updating a word in the file"
   ]
  },
  {
   "cell_type": "code",
   "execution_count": 16,
   "metadata": {},
   "outputs": [],
   "source": [
    "f = open('file_cities.txt', 'w')\n",
    "f.write(\"Warangal\\nHyderabad\\nSecunderabad\\nVijayawada\\nGuntur\\nTirupati\\nVisakhapatnam\\nKurnool\")\n",
    "f.close()"
   ]
  },
  {
   "cell_type": "code",
   "execution_count": 17,
   "metadata": {},
   "outputs": [
    {
     "name": "stdout",
     "output_type": "stream",
     "text": [
      "Enter the number of lines to read 5\n",
      "Vijayawada\n",
      "\n",
      "Guntur\n",
      "\n",
      "Tirupati\n",
      "\n",
      "Visakhapatnam\n",
      "\n",
      "Kurnool\n"
     ]
    }
   ],
   "source": [
    "f = open('file_cities.txt', 'r')\n",
    "n = int(input(\"Enter the number of lines to read \"))\n",
    "for i in f.readlines()[-n:]:\n",
    "    print(i)"
   ]
  },
  {
   "cell_type": "code",
   "execution_count": 18,
   "metadata": {},
   "outputs": [
    {
     "name": "stdout",
     "output_type": "stream",
     "text": [
      "Enter the file name in which you want to append data: file_cities.txt\n",
      "Enter any words/data to append into the file Khammam\n",
      "Warangal\n",
      "Hyderabad\n",
      "Secunderabad\n",
      "Vijayawada\n",
      "Guntur\n",
      "Tirupati\n",
      "Visakhapatnam\n",
      "Kurnool\n",
      "Khammam\n"
     ]
    }
   ],
   "source": [
    "#Create a function for appending data into a file\n",
    "def append(file_name, file_data):\n",
    "    with open(file_name, 'a+') as f:\n",
    "        f.write(\"\\n\" + file_data)\n",
    "        f.close()\n",
    "    with open(file_name, 'r') as f:\n",
    "        print(f.read())\n",
    "        \n",
    "file_name = input(\"Enter the file name in which you want to append data: \")\n",
    "file_data = input(\"Enter any words/data to append into the file \")\n",
    "append(file_name, file_data)"
   ]
  },
  {
   "cell_type": "code",
   "execution_count": 19,
   "metadata": {},
   "outputs": [
    {
     "name": "stdout",
     "output_type": "stream",
     "text": [
      "Enter the name of file in which you want to replace data: file_cities.txt\n",
      "Enter the data you want to replace: Warangal\n",
      "Enter the new data you want to replace with existing one Machilipatnam\n"
     ]
    }
   ],
   "source": [
    "#Write a python program for updating a word in the file\n",
    "import re\n",
    "name = input(\"Enter the name of file in which you want to replace data: \")\n",
    "f_data1 = input('Enter the data you want to replace: ')\n",
    "f_data2 = input('Enter the new data you want to replace with existing one ')\n",
    "with open(name, 'r+') as f:\n",
    "    data = f.read()\n",
    "    data = re.sub(f_data1,f_data2,data)\n",
    "    f.seek(0)\n",
    "    f.write(data)\n",
    "    f.close()"
   ]
  },
  {
   "cell_type": "code",
   "execution_count": 20,
   "metadata": {},
   "outputs": [
    {
     "name": "stdout",
     "output_type": "stream",
     "text": [
      "Machilipatnam\n",
      "Hyderabad\n",
      "Secunderabad\n",
      "Vijayawada\n",
      "Guntur\n",
      "Tirupati\n",
      "Visakhapatnam\n",
      "Kurnool\n",
      "Khammam\n"
     ]
    }
   ],
   "source": [
    "#Checking the updated file\n",
    "f = open('file1.txt', 'r')\n",
    "print(f.read())"
   ]
  },
  {
   "cell_type": "code",
   "execution_count": null,
   "metadata": {},
   "outputs": [],
   "source": []
  }
 ],
 "metadata": {
  "kernelspec": {
   "display_name": "Python 3",
   "language": "python",
   "name": "python3"
  },
  "language_info": {
   "codemirror_mode": {
    "name": "ipython",
    "version": 3
   },
   "file_extension": ".py",
   "mimetype": "text/x-python",
   "name": "python",
   "nbconvert_exporter": "python",
   "pygments_lexer": "ipython3",
   "version": "3.7.4"
  }
 },
 "nbformat": 4,
 "nbformat_minor": 2
}
