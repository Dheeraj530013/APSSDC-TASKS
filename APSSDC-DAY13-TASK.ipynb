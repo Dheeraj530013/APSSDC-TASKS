{
 "cells": [
  {
   "cell_type": "markdown",
   "metadata": {},
   "source": [
    "##Day13 Tasks:\n",
    "\n",
    "->Python program to create arrays with all the available datatypes in numpy\n"
   ]
  },
  {
   "cell_type": "code",
   "execution_count": 25,
   "metadata": {},
   "outputs": [
    {
     "name": "stdout",
     "output_type": "stream",
     "text": [
      "[1 2 3 4] \t\t\t\t int32\n",
      "[6.6 7.7 8.8 8.8] \t\t\t float64\n",
      "[b'N' b'E' b'C'] \t\t\t |S1\n",
      "[False  True  True False] \t\t bool\n",
      "[1.+5.j  2.+2.j  5.+1.1j 7.+5.1j] \t complex128\n",
      "[[11 18]\n",
      " [51 32]\n",
      " [5.1 7.1]\n",
      " ['Dolby' 'dts-hd']] \t\t\t object\n",
      "['3' '5' '8' '2'] \t\t\t <U1\n",
      "[1 2 3 4] \t\t\t\t uint8\n"
     ]
    }
   ],
   "source": [
    "import numpy as np\n",
    "#Integer type\n",
    "a = np.array([1, 2, 3, 4], dtype = 'int_')\n",
    "print(a,\"\\t\\t\\t\\t\",a.dtype)\n",
    "\n",
    "#Float type:\n",
    "f = np.array([6.6, 7.7, 8.8, 8.8], dtype = 'float_')\n",
    "print(f,\"\\t\\t\\t\",f.dtype)\n",
    "\n",
    "#String type:\n",
    "s = np.array(['N', 'E', 'C'], dtype = 'S')\n",
    "print(s,\"\\t\\t\\t\",s.dtype)\n",
    "\n",
    "#Boolean type:\n",
    "b = np.array([False, True, True, False], dtype = 'bool_')\n",
    "print(b,\"\\t\\t\",b.dtype)\n",
    "\n",
    "#Complex type:\n",
    "c = np.array([1+5j, 2+2j, 5+1.1j, 7+5.1j], dtype = 'complex_')\n",
    "print(c,\"\\t\",c.dtype)\n",
    "\n",
    "#Object type:\n",
    "o = np.array([[11, 18], [51, 32], [5.1, 7.1], ['Dolby', 'dts-hd']], dtype = 'O')\n",
    "print(o,\"\\t\\t\\t\",o.dtype)\n",
    "\n",
    "#Unicode type:\n",
    "u = np.array([3, 5, 8, 2], dtype = 'U')\n",
    "print(u,\"\\t\\t\\t\",u.dtype)\n",
    "\n",
    "#Unsigned type:\n",
    "z = np.array([1, 2, 3, 4], dtype = 'uint8')\n",
    "print(z,\"\\t\\t\\t\\t\",z.dtype)\n"
   ]
  },
  {
   "cell_type": "code",
   "execution_count": null,
   "metadata": {},
   "outputs": [],
   "source": []
  }
 ],
 "metadata": {
  "kernelspec": {
   "display_name": "Python 3",
   "language": "python",
   "name": "python3"
  },
  "language_info": {
   "codemirror_mode": {
    "name": "ipython",
    "version": 3
   },
   "file_extension": ".py",
   "mimetype": "text/x-python",
   "name": "python",
   "nbconvert_exporter": "python",
   "pygments_lexer": "ipython3",
   "version": "3.7.4"
  }
 },
 "nbformat": 4,
 "nbformat_minor": 2
}
